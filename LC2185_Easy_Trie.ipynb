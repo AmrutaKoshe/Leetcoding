{
 "cells": [
  {
   "cell_type": "markdown",
   "metadata": {},
   "source": [
    "## Counting Words with a Given Prefix -\n",
    "\n",
    "You are given an array of strings words and a string pref.\n",
    "Return the number of strings in words that contain pref as a prefix.\n",
    "A prefix of a string s is any leading contiguous substring of s.\n",
    "\n",
    "\n",
    "**Example 1:**\n",
    "\n",
    "Input: words = [\"pay\",\"attention\",\"practice\",\"attend\"], pref = \"at\" <br>\n",
    "Output: 2 <br>\n",
    "Explanation: The 2 strings that contain \"at\" as a prefix are: \"attention\" and \"attend\".\n",
    "\n",
    "__Example 2:__\n",
    "\n",
    "Input: words = [\"leetcode\",\"win\",\"loops\",\"success\"], pref = \"code\" <br>\n",
    "Output: 0 <br>\n",
    "Explanation: There are no strings that contain \"code\" as a prefix."
   ]
  },
  {
   "cell_type": "markdown",
   "metadata": {},
   "source": [
    "### APPROACH 1: Using startswith()"
   ]
  },
  {
   "cell_type": "code",
   "execution_count": null,
   "metadata": {},
   "outputs": [],
   "source": [
    "class Solution:\n",
    "    def prefixCount(self, words: List[str], pref: str) -> int:\n",
    "        ans = 0\n",
    "        for word in words:\n",
    "            if word.startswith(pref):\n",
    "                ans += 1\n",
    "\n",
    "        return ans"
   ]
  },
  {
   "cell_type": "markdown",
   "metadata": {},
   "source": [
    "Time Complexity: **O(m*n)** where m is length of pref, and n is the length of words. <br>\n",
    "For each word, startswith checks up to len(pref) characters.\n",
    "\n",
    "\n",
    "Space Complexity: **O(1)**"
   ]
  },
  {
   "cell_type": "markdown",
   "metadata": {},
   "source": [
    "### APPROACH 2: Using Slicing"
   ]
  },
  {
   "cell_type": "code",
   "execution_count": null,
   "metadata": {},
   "outputs": [],
   "source": [
    "class Solution:\n",
    "    def prefixCount(self, words: List[str], pref: str) -> int:\n",
    "        ans = 0\n",
    "        pref_len = len(pref)\n",
    "        for word in words:\n",
    "            if word[:pref_len] == pref:\n",
    "                ans += 1\n",
    "            \n",
    "        return ans"
   ]
  },
  {
   "cell_type": "markdown",
   "metadata": {},
   "source": [
    "Time Complexity: **O(m*n)** <br>\n",
    "Space Complexity: **O(1)**"
   ]
  },
  {
   "cell_type": "markdown",
   "metadata": {},
   "source": [
    "### APPROACH 3: Using filter()"
   ]
  },
  {
   "cell_type": "code",
   "execution_count": null,
   "metadata": {},
   "outputs": [],
   "source": [
    "class Solution:\n",
    "    def prefixCount(self, words: List[str], pref: str) -> int:\n",
    "        return len(list(filter(lambda word: word.startswith(pref), words)))"
   ]
  },
  {
   "cell_type": "markdown",
   "metadata": {},
   "source": [
    "We're basically doing the same thing, but we're using the filter() function.\n",
    "\n",
    "Syntax of filter: \n",
    "filter( function, iterable)\n",
    "\n",
    "This will return a filter object, which contains the elements of the iterable for which the function returns true. Since filter returns an iterable, we have to convert it to a list.\n"
   ]
  },
  {
   "cell_type": "markdown",
   "metadata": {},
   "source": [
    "Time Complexity: **O(m*n)** <br>\n",
    "Space Complexity: **O(1)**"
   ]
  },
  {
   "cell_type": "markdown",
   "metadata": {},
   "source": [
    "### APPROACH 4: Using Trie"
   ]
  },
  {
   "cell_type": "code",
   "execution_count": null,
   "metadata": {},
   "outputs": [],
   "source": [
    "class TrieNode:\n",
    "    def __init__(self):\n",
    "        self.children = {}\n",
    "        self.count = 0\n",
    "\n",
    "class Trie:\n",
    "    def __init__(self):\n",
    "        self.root = TrieNode()\n",
    "\n",
    "    def insert(self, word):\n",
    "        node = self.root\n",
    "        for char in word:\n",
    "            if char not in node.children:\n",
    "                node.children[char] = TrieNode()\n",
    "            node = node.children[char]\n",
    "            node.count += 1\n",
    "\n",
    "    def count_pref(self, pref):\n",
    "        node = self.root\n",
    "        for char in pref:\n",
    "            if char not in node.children:\n",
    "                return 0\n",
    "            node = node.children[char]\n",
    "        return node.count\n",
    "\n",
    "class Solution:\n",
    "    def prefixCount(self, words: List[str], pref: str) -> int:\n",
    "        trie = Trie()\n",
    "        for word in words:\n",
    "            trie.insert(word)\n",
    "        return trie.count_pref(pref)"
   ]
  },
  {
   "cell_type": "markdown",
   "metadata": {},
   "source": [
    "This is basically a prefix tree. <br>\n",
    "Each node in the tree has 2 attributes - <br>\n",
    "1. self.children - This is a dicionary that stores child nodes. <br>\n",
    "2. self.count - This keeps a tab of how many words pass through this node."
   ]
  },
  {
   "cell_type": "markdown",
   "metadata": {},
   "source": [
    "Let's consider the word \"**app**\". <br>\n",
    "If we insert this in our prefix tree, it'll look like - \n",
    "\n",
    "<img src=\"images/prefix_tree.png\" alt=\"Tree Diagram\" width=\"500\"/>\n",
    "\n",
    "Here, each character i.e. node has a dictionary and a count"
   ]
  },
  {
   "cell_type": "markdown",
   "metadata": {},
   "source": [
    "However, for easy representation, we'll just portray it as a tree, like so - \n",
    "\n",
    "<img src=\"images/prefix_tree_tree.png\" alt=\"Tree Diagram\" width=\"500\"/>"
   ]
  },
  {
   "cell_type": "markdown",
   "metadata": {},
   "source": [
    "In order to understand the code logic above, let's consider an example - <br>\n",
    "words = [\"apple\",\"app\",\"apply\",\"apex\"], pref=\"app\"\n",
    "\n",
    "The prefix tree for this example will look like - \n",
    "\n",
    "<img src=\"images/prefix_tree_eg.png\" alt=\"Tree Diagram\" width=\"500\"/>\n",
    "\n",
    "Hence, our answer will be **3**. "
   ]
  },
  {
   "cell_type": "markdown",
   "metadata": {},
   "source": [
    "Time Complexity: \n",
    "- Trie Construction: O(L) , where L is the total number of characters in words.\n",
    "- Querying for a prefix: O(m)\n",
    "\n",
    "- Total: **O(L+m)**\n",
    "\n",
    "Space Complexity: **O(L)** - space for the trie"
   ]
  }
 ],
 "metadata": {
  "kernelspec": {
   "display_name": "Python 3",
   "language": "python",
   "name": "python3"
  },
  "language_info": {
   "codemirror_mode": {
    "name": "ipython",
    "version": 3
   },
   "file_extension": ".py",
   "mimetype": "text/x-python",
   "name": "python",
   "nbconvert_exporter": "python",
   "pygments_lexer": "ipython3",
   "version": "3.12.10"
  }
 },
 "nbformat": 4,
 "nbformat_minor": 2
}
