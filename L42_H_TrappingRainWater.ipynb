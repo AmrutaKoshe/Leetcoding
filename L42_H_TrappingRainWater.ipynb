{
 "cells": [
  {
   "cell_type": "markdown",
   "metadata": {},
   "source": [
    "## Trapping Rain Water\n",
    "\n",
    "[Leetcode Problem](https://leetcode.com/problems/trapping-rain-water/description/?envType=daily-question&envId=2025-01-19)"
   ]
  },
  {
   "cell_type": "markdown",
   "metadata": {},
   "source": [
    "### APPROACH 1: Brute Force\n",
    "\n",
    "Consider a random block *i*. Water can trapped at *i* if there are taller bars on both sides. <br>\n",
    "Also, water level at *i* is determined by the smallest of the tallest bars on both sides. <br>\n",
    "Consider the left side of *i* has a maximum height of left_max, and the right side right_max.\n",
    "\n",
    "Then, <br>\n",
    "***water_level = min(left_max, right_max)***\n",
    "\n",
    "To calculate trapped water at *i*, we would need to subtract it with height[i]. <br>\n",
    "***trapped_water = water_level - height[i]***\n",
    "\n",
    "However, if height[i] >= water_level, no water can be trapped, hence it should be zero. <br>\n",
    "\n",
    "Therefore, final water can be calculated by - <br>\n",
    "##### ***water[i] = max(0, min(left_max, right_max) - height[i])***\n",
    "\n",
    "\n",
    "In the brute force method, we compute water trapped for each element and add them to get the result."
   ]
  },
  {
   "cell_type": "code",
   "execution_count": null,
   "metadata": {},
   "outputs": [],
   "source": [
    "class Solution:\n",
    "    def trap(self, height: List[int]) -> int:\n",
    "        n = len(height)\n",
    "        if n<3:\n",
    "            return 0\n",
    "\n",
    "        water = 0\n",
    "        for i in range(1,n-1):\n",
    "            left_max = max(height[:i])\n",
    "            right_max = max(height[i+1:])\n",
    "            water += max(0, min(left_max, right_max)-height[i])\n",
    "\n",
    "        return water"
   ]
  },
  {
   "cell_type": "markdown",
   "metadata": {},
   "source": [
    "Time Complexity: **O(n<sup>2</sup>)** - For each bar, we find left_max and right_max using 2 separate loops <br>\n",
    "Space Complexity: **O(1)**"
   ]
  },
  {
   "cell_type": "markdown",
   "metadata": {},
   "source": [
    "### APPROACH 2: Dynamic Programming\n",
    "\n",
    "Instead of calculating left_max and right_max for each i, precompute them for each position and then use these precomputed arrays. <br>\n",
    "We will traverse from right to left for calculate the right_max array."
   ]
  },
  {
   "cell_type": "code",
   "execution_count": null,
   "metadata": {},
   "outputs": [],
   "source": [
    "class Solution:\n",
    "    def trap(self, height: List[int]) -> int:\n",
    "        n = len(height)\n",
    "        if n<3:\n",
    "            return 0\n",
    "\n",
    "        water = 0\n",
    "        left_max = [0]*n\n",
    "        right_max = [0]*n\n",
    "        \n",
    "        for i in range(1,n):\n",
    "            left_max[i] = max(left_max[i-1], height[i-1])\n",
    "\n",
    "        for i in range(n-2,-1,-1):\n",
    "            right_max[i] = max(right_max[i+1], height[i+1])\n",
    "\n",
    "        for i in range(n):\n",
    "            water += max(0, min(left_max[i], right_max[i]) - height[i])\n",
    "\n",
    "        return water"
   ]
  },
  {
   "cell_type": "markdown",
   "metadata": {},
   "source": [
    "Time Complexity: **O(n)** - 2 passes for left_max and right_max, and 1 pass for water <br>\n",
    "Space Complexity: **O(n)** - To store 2 arrays "
   ]
  },
  {
   "cell_type": "markdown",
   "metadata": {},
   "source": []
  }
 ],
 "metadata": {
  "language_info": {
   "name": "python"
  }
 },
 "nbformat": 4,
 "nbformat_minor": 2
}
