{
 "cells": [
  {
   "cell_type": "markdown",
   "metadata": {},
   "source": [
    "## Trapping Rain Water\n",
    "\n",
    "[Leetcode Problem](https://leetcode.com/problems/trapping-rain-water/description/?envType=daily-question&envId=2025-01-19)"
   ]
  },
  {
   "cell_type": "markdown",
   "metadata": {},
   "source": [
    "### APPROACH 1: Brute Force\n",
    "\n",
    "Consider a random block *i*. Water can trapped at *i* if there are taller bars on both sides. <br>\n",
    "Also, water level at *i* is determined by the smallest of the tallest bars on both sides. <br>\n",
    "Consider the left side of *i* has a maximum height of left_max, and the right side right_max.\n",
    "\n",
    "Then, <br>\n",
    "***water_level = min(left_max, right_max)***\n",
    "\n",
    "To calculate trapped water at *i*, we would need to subtract it with height[i]. <br>\n",
    "***trapped_water = water_level - height[i]***\n",
    "\n",
    "However, if height[i] >= water_level, no water can be trapped, hence it should be zero. <br>\n",
    "\n",
    "Therefore, final water can be calculated by - <br>\n",
    "##### ***water[i] = max(0, min(left_max, right_max) - height[i])***\n",
    "\n",
    "\n",
    "In the brute force method, we compute water trapped for each element and add them to get the result."
   ]
  },
  {
   "cell_type": "code",
   "execution_count": null,
   "metadata": {},
   "outputs": [],
   "source": [
    "class Solution:\n",
    "    def trap(self, height: List[int]) -> int:\n",
    "        n = len(height)\n",
    "        if n<3:\n",
    "            return 0\n",
    "\n",
    "        water = 0\n",
    "        for i in range(1,n-1):\n",
    "            left_max = max(height[:i])\n",
    "            right_max = max(height[i+1:])\n",
    "            water += max(0, min(left_max, right_max)-height[i])\n",
    "\n",
    "        return water"
   ]
  },
  {
   "cell_type": "markdown",
   "metadata": {},
   "source": [
    "Time Complexity: **O(n<sup>2</sup>)** - For each bar, we find left_max and right_max using 2 separate loops <br>\n",
    "Space Complexity: **O(1)**"
   ]
  },
  {
   "cell_type": "markdown",
   "metadata": {},
   "source": [
    "### APPROACH 2: Dynamic Programming\n",
    "\n",
    "Instead of calculating left_max and right_max for each i, precompute them for each position and then use these precomputed arrays. <br>\n",
    "We will traverse from right to left for calculate the right_max array."
   ]
  },
  {
   "cell_type": "code",
   "execution_count": null,
   "metadata": {},
   "outputs": [],
   "source": [
    "class Solution:\n",
    "    def trap(self, height: List[int]) -> int:\n",
    "        n = len(height)\n",
    "        if n<3:\n",
    "            return 0\n",
    "\n",
    "        water = 0\n",
    "        left_max = [0]*n\n",
    "        right_max = [0]*n\n",
    "        \n",
    "        for i in range(1,n):\n",
    "            left_max[i] = max(left_max[i-1], height[i-1])\n",
    "\n",
    "        for i in range(n-2,-1,-1):\n",
    "            right_max[i] = max(right_max[i+1], height[i+1])\n",
    "\n",
    "        for i in range(n):\n",
    "            water += max(0, min(left_max[i], right_max[i]) - height[i])\n",
    "\n",
    "        return water"
   ]
  },
  {
   "cell_type": "markdown",
   "metadata": {},
   "source": [
    "Time Complexity: **O(n)** - 2 passes for left_max and right_max, and 1 pass for water <br>\n",
    "Space Complexity: **O(n)** - To store 2 arrays "
   ]
  },
  {
   "cell_type": "markdown",
   "metadata": {},
   "source": [
    "### APPROACH 3: Two Pointer Approach (Optimal)"
   ]
  },
  {
   "cell_type": "markdown",
   "metadata": {},
   "source": [
    "In this approach, we have 2 pointers - one at the start (left), and one at the end (right). <br>\n",
    "The basic intuition is that - the pointer with the smaller height out of these two tries to approach the opposite pointer. <br>\n",
    "This is bcoz the water collected is bounded by the smaller height. <br>\n",
    "And while this pointer is in the process of approaching the other other pointer, we keep collecting water by keeping a track of left_max and right_max and calculating the trapped water by <br> left_max - height[left] or right_max - height[right]."
   ]
  },
  {
   "cell_type": "code",
   "execution_count": null,
   "metadata": {},
   "outputs": [],
   "source": [
    "def trap_two_pointers(height):\n",
    "    n = len(height)\n",
    "    if n < 3:\n",
    "        return 0\n",
    "\n",
    "    left, right = 0, n - 1\n",
    "    left_max, right_max = 0, 0\n",
    "    water_trapped = 0\n",
    "\n",
    "    while left <= right:\n",
    "        if height[left] <= height[right]:\n",
    "            if height[left] >= left_max:\n",
    "                left_max = height[left]\n",
    "            else:\n",
    "                water_trapped += left_max - height[left]\n",
    "            left += 1\n",
    "        else:\n",
    "            if height[right] >= right_max:\n",
    "                right_max = height[right]\n",
    "            else:\n",
    "                water_trapped += right_max - height[right]\n",
    "            right -= 1\n",
    "\n",
    "    return water_trapped"
   ]
  },
  {
   "cell_type": "markdown",
   "metadata": {},
   "source": [
    "Time Complexity: **O(n)** - Single traversal of array <br>\n",
    "Space Complexity: **O(1)** - Only Constant space"
   ]
  },
  {
   "cell_type": "markdown",
   "metadata": {},
   "source": [
    "### APPROACH 4: Monotonic decreasing stack"
   ]
  },
  {
   "cell_type": "markdown",
   "metadata": {},
   "source": [
    "A monotonic decreasing stack stores elements in decreasing order. <br>\n",
    "So, each new element pushed onto the stack is smaller than (or equal to) the previous element. <br>\n",
    "If a new element is larger, we pop from the stack until the order is maintained."
   ]
  },
  {
   "cell_type": "markdown",
   "metadata": {},
   "source": [
    "Given below is a visual representation of the solution with an example - \n"
   ]
  },
  {
   "cell_type": "markdown",
   "metadata": {},
   "source": [
    "<img src=\"images/trapping_rainwater_1.png\" width=\"500\"/>"
   ]
  },
  {
   "cell_type": "code",
   "execution_count": null,
   "metadata": {},
   "outputs": [],
   "source": [
    "def trap_stack(height):\n",
    "    stack = []\n",
    "    water_trapped = 0\n",
    "    n = len(height)\n",
    "\n",
    "    for i in range(n):\n",
    "        while stack and height[i] > height[stack[-1]]:\n",
    "            top = stack.pop()\n",
    "            if not stack:\n",
    "                break\n",
    "            distance = i - stack[-1] - 1\n",
    "            bounded_height = min(height[i], height[stack[-1]]) - height[top]\n",
    "            water_trapped += distance * bounded_height\n",
    "        stack.append(i)\n",
    "\n",
    "    return water_trapped"
   ]
  },
  {
   "cell_type": "markdown",
   "metadata": {},
   "source": [
    "Time Complexity: **O(n)** - Single traversal of array <br>\n",
    "Space Complexity: **O(1)** - Stack used to store indices"
   ]
  },
  {
   "cell_type": "markdown",
   "metadata": {},
   "source": []
  }
 ],
 "metadata": {
  "language_info": {
   "name": "python"
  }
 },
 "nbformat": 4,
 "nbformat_minor": 2
}
