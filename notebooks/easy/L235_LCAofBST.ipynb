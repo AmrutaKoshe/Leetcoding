{
 "cells": [
  {
   "cell_type": "markdown",
   "id": "3b50449f",
   "metadata": {},
   "source": [
    "# Lowest Common Ancestor of a Binary Search Tree"
   ]
  },
  {
   "cell_type": "markdown",
   "id": "e53d12a6",
   "metadata": {},
   "source": [
    "### APPROACH 1: Iterative Version (Most Efficient)"
   ]
  },
  {
   "cell_type": "markdown",
   "id": "dfebb3ee",
   "metadata": {},
   "source": [
    "In a BST, left subtree < root < right subtree.\n",
    "\n",
    "So if both p and q are smaller than root, LCA is in the left subtree.\n",
    "\n",
    "If both are greater, LCA is in the right subtree.\n",
    "\n",
    "If they split — one on each side — then root is the LCA."
   ]
  },
  {
   "cell_type": "code",
   "execution_count": null,
   "id": "063ec451",
   "metadata": {},
   "outputs": [],
   "source": [
    "class Solution:\n",
    "    def lowestCommonAncestor(self, root, p, q):\n",
    "        while root:\n",
    "            if p.val < root.val and q.val < root.val:\n",
    "                root = root.left\n",
    "            elif p.val > root.val and q.val > root.val:\n",
    "                root = root.right\n",
    "            else:\n",
    "                return root"
   ]
  },
  {
   "cell_type": "markdown",
   "id": "6611df4e",
   "metadata": {},
   "source": [
    "Time Complexity: **O(h)** - where h is the height of the tree <br>\n",
    "Space Complexity: **O(1)**"
   ]
  },
  {
   "cell_type": "markdown",
   "id": "e973825c",
   "metadata": {},
   "source": [
    "### APPROACH 2: Recursive Version"
   ]
  },
  {
   "cell_type": "code",
   "execution_count": null,
   "id": "b587b137",
   "metadata": {},
   "outputs": [],
   "source": [
    "class Solution:\n",
    "    def lowestCommonAncestor(self, root, p, q):\n",
    "        if p.val < root.val and q.val < root.val:\n",
    "            return self.lowestCommonAncestor(root.left, p, q)\n",
    "        elif p.val > root.val and q.val > root.val:\n",
    "            return self.lowestCommonAncestor(root.right, p, q)\n",
    "        else:\n",
    "            return root"
   ]
  },
  {
   "cell_type": "markdown",
   "id": "dc296266",
   "metadata": {},
   "source": [
    "Time Complexity: **O(h)** - where h is the height of the tree <br>\n",
    "Space Complexity: **O(h)** - recursion stack"
   ]
  }
 ],
 "metadata": {
  "language_info": {
   "name": "python"
  }
 },
 "nbformat": 4,
 "nbformat_minor": 5
}
