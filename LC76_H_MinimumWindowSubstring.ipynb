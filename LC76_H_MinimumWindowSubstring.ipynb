{
 "cells": [
  {
   "cell_type": "markdown",
   "metadata": {},
   "source": [
    "## Minimum Window Substring\n",
    "\n",
    "Given two strings s and t of lengths m and n respectively, return the minimum window substring of s such that every character in t (including duplicates) is included in the window. If there is no such substring, return the empty string \"\".\n",
    "\n",
    "The testcases will be generated such that the answer is unique.\n",
    "\n",
    "**Example 1:** <br>\n",
    "Input: s = \"ADOBECODEBANC\", t = \"ABC\" <br>\n",
    "Output: \"BANC\" <br>\n",
    "Explanation: The minimum window substring \"BANC\" includes 'A', 'B', and 'C' from string t.\n",
    "\n",
    "**Example 2:** <br>\n",
    "Input: s = \"a\", t = \"a\" <br>\n",
    "Output: \"a\" <br>\n",
    "Explanation: The entire string s is the minimum window.\n",
    "\n",
    "**Example 3:** <br>\n",
    "Input: s = \"a\", t = \"aa\" <br> \n",
    "Output: \"\" <br>\n",
    "Explanation: Both 'a's from t must be included in the window. \n",
    "Since the largest window of s only has one 'a', return empty string."
   ]
  },
  {
   "cell_type": "markdown",
   "metadata": {},
   "source": [
    "### APPROACH 1: Brute Force\n",
    "\n",
    "Generate all substring of s and check which substring contains all characters of t. <br>\n",
    "Also keep a track of the shortest substring."
   ]
  },
  {
   "cell_type": "code",
   "execution_count": null,
   "metadata": {},
   "outputs": [],
   "source": [
    "from collections import Counter\n",
    "class Solution:\n",
    "    def minWindow(self, s: str, t: str) -> str:\n",
    "        def contains_all_chars(substring, t_count):\n",
    "            s_count = Counter(substring)\n",
    "            for char, count in t_count.items():\n",
    "                if s_count[char] < count:\n",
    "                    return False\n",
    "            return True\n",
    "\n",
    "        t_count = Counter(t)\n",
    "        min_length = float('inf')\n",
    "        result = \"\"\n",
    "\n",
    "        for i in range(len(s)):\n",
    "            for j in range(i,len(s)):\n",
    "                substring = s[i:j+1]\n",
    "                if contains_all_chars(substring, t_count):\n",
    "                    if len(substring) < min_length:\n",
    "                        min_length = len(substring)\n",
    "                        result = substring\n",
    "\n",
    "        return result"
   ]
  },
  {
   "cell_type": "markdown",
   "metadata": {},
   "source": [
    "Time Complexity: **O(n<sup>2</sup>.m)**, where n is the length of s and m is the length of t. <br>\n",
    "Space Complexity: **O(m+n)** for storing t_count and s_count"
   ]
  },
  {
   "cell_type": "markdown",
   "metadata": {},
   "source": [
    "### APPROACH 2: Sliding Window\n",
    "\n",
    "We use pointers left and right and we slide a window across the string and compare elements in t and the window substring."
   ]
  },
  {
   "cell_type": "code",
   "execution_count": null,
   "metadata": {},
   "outputs": [],
   "source": [
    "from collections import Counter\n",
    "class Solution:\n",
    "    def minWindow(self, s: str, t: str) -> str:\n",
    "        if not t or not s:\n",
    "            return \"\"\n",
    "\n",
    "        t_count = Counter(t)\n",
    "        window_count = Counter()\n",
    "\n",
    "        have, need = 0,len(t_count)\n",
    "        l = 0\n",
    "        result = \"\"\n",
    "        min_length = float('inf')\n",
    "\n",
    "        for r in range(len(s)):\n",
    "            char = s[r]\n",
    "            window_count[char] += 1\n",
    "\n",
    "            if char in t_count and window_count[char] == t_count[char]:\n",
    "                have += 1\n",
    "\n",
    "            while have==need:\n",
    "                #Update result\n",
    "                if (r-l+1) <min_length:\n",
    "                    min_length = r-l+1\n",
    "                    result= s[l:r+1]\n",
    "\n",
    "                #Shrink Window\n",
    "                window_count[s[l]] -= 1\n",
    "                if s[l] in t_count and window_count[s[l]] < t_count[s[l]]:\n",
    "                    have -= 1\n",
    "                l += 1\n",
    "\n",
    "        return result"
   ]
  },
  {
   "cell_type": "markdown",
   "metadata": {},
   "source": [
    "Let's walkthrough example 1:"
   ]
  },
  {
   "cell_type": "markdown",
   "metadata": {},
   "source": [
    "<img src=\"images/sliding_window.png\" alt=\"Tree Diagram\" width=\"500\"/>\n",
    "\n",
    "<img src=\"images/sliding_window_2.png\" alt=\"Tree Diagram\" width=\"500\"/>\n",
    "\n",
    "<img src=\"images/sliding_window_3.png\" alt=\"Tree Diagram\" width=\"500\"/>\n",
    "\n",
    "<img src=\"images/sliding_window_4.png\" alt=\"Tree Diagram\" width=\"500\"/>\n",
    "\n",
    "<img src=\"images/sliding_window_5.png\" alt=\"Tree Diagram\" width=\"500\"/>\n",
    "\n",
    "<img src=\"images/sliding_window_6.png\" alt=\"Tree Diagram\" width=\"500\"/>\n",
    "\n",
    "<img src=\"images/sliding_window_7.png\" alt=\"Tree Diagram\" width=\"500\"/>"
   ]
  },
  {
   "cell_type": "markdown",
   "metadata": {},
   "source": [
    "Let's walk through the code with an example --\n",
    "\n",
    "Eg: s = \"ADOBCODEBANC\", t=\"ABC\"\n",
    "\n",
    "Initially: <br>\n",
    "t_count = {A:1, B:1, C:1}, have=0, need=0.\n",
    "\n",
    "We iterate through the for loop and increment r till we  reach r=4. At this point, have=3 and window_count = {A:1, D:1, O:1, B:1, C:1} <br>\n",
    "Hence, we enter the while loop and set min_length and result. <br>\n",
    "Then, when we shrink the window - have=2, window_count = {A:0, D:1, O:1, B:1, C:1}. <br>\n",
    "So we exit the while loop and the for loop continues till r=9,l=1 when have=3, window_count = {A:1, B:2, C:1, D:2, O:2, E:1} <br>\n",
    "\n",
    "We enter the while loop, but don't update result as the length is greater than min_length. <br>\n",
    "We then shrink the window till l=5 since have becomes 2. <br>\n",
    "\n",
    "This basically continues till we get result= \"BANC\"\n"
   ]
  },
  {
   "cell_type": "markdown",
   "metadata": {},
   "source": [
    "Time Complexity: **O(n+m)** <br>\n",
    "Space Complexity: __O(m+n)__"
   ]
  },
  {
   "cell_type": "markdown",
   "metadata": {},
   "source": [
    "### APPROACH 3: Two-Pointer with Filtered Characters\n",
    "\n",
    "Optimize the sliding window approach by filtering s to only include characters that exist in t."
   ]
  },
  {
   "cell_type": "markdown",
   "metadata": {},
   "source": []
  }
 ],
 "metadata": {
  "kernelspec": {
   "display_name": "Python 3",
   "language": "python",
   "name": "python3"
  },
  "language_info": {
   "codemirror_mode": {
    "name": "ipython",
    "version": 3
   },
   "file_extension": ".py",
   "mimetype": "text/x-python",
   "name": "python",
   "nbconvert_exporter": "python",
   "pygments_lexer": "ipython3",
   "version": "3.12.8"
  }
 },
 "nbformat": 4,
 "nbformat_minor": 2
}
