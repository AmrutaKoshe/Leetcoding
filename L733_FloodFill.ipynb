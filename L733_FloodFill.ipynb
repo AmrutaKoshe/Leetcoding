{
 "cells": [
  {
   "cell_type": "markdown",
   "metadata": {},
   "source": [
    "# Flood Fill"
   ]
  },
  {
   "cell_type": "markdown",
   "metadata": {},
   "source": [
    "### APPROACH 1: BFS with Queue"
   ]
  },
  {
   "cell_type": "code",
   "execution_count": null,
   "metadata": {},
   "outputs": [],
   "source": [
    "from collections import deque\n",
    "\n",
    "class Solution:\n",
    "    def floodFill(self, image, sr, sc, color):\n",
    "        rows, cols = len(image), len(image[0])\n",
    "        original_color = image[sr][sc]\n",
    "        \n",
    "        if original_color == color:\n",
    "            return image\n",
    "        \n",
    "        queue = deque([(sr, sc)])\n",
    "        directions = [(1,0), (-1,0), (0,1), (0,-1)]\n",
    "        \n",
    "        while queue:\n",
    "            r, c = queue.popleft()\n",
    "            if image[r][c] == original_color:\n",
    "                image[r][c] = color\n",
    "                for dr, dc in directions:\n",
    "                    nr, nc = r + dr, c + dc\n",
    "                    if 0 <= nr < rows and 0 <= nc < cols and image[nr][nc] == original_color:\n",
    "                        queue.append((nr, nc))\n",
    "        \n",
    "        return image"
   ]
  },
  {
   "cell_type": "markdown",
   "metadata": {},
   "source": [
    "Time Complexity: **O(N.M)** - Each pixel is visited once. <br>\n",
    "Space Complexity: **O(N.M)**"
   ]
  },
  {
   "cell_type": "markdown",
   "metadata": {},
   "source": []
  }
 ],
 "metadata": {
  "language_info": {
   "name": "python"
  }
 },
 "nbformat": 4,
 "nbformat_minor": 2
}
