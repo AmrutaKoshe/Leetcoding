{
 "cells": [
  {
   "cell_type": "markdown",
   "metadata": {},
   "source": [
    "# Invert a Binary Tree\n",
    "\n",
    "A binary tree is a type of data structure that consists of nodes, where:\n",
    "\n",
    "Each node has at most two children:\n",
    "Left child\n",
    "Right child <br>\n",
    "The topmost node is called the root. <br>\n",
    "Nodes that have no children are called leaf nodes."
   ]
  },
  {
   "cell_type": "markdown",
   "metadata": {},
   "source": [
    "### APPROACH 1: Recursive Solution - DFS"
   ]
  },
  {
   "cell_type": "code",
   "execution_count": null,
   "metadata": {},
   "outputs": [],
   "source": [
    "class Solution:\n",
    "    def invertTree(self, root: Optional[TreeNode]) -> Optional[TreeNode]:\n",
    "        if not root:\n",
    "            return None\n",
    "        \n",
    "        # Swap left and right\n",
    "        root.left, root.right = self.invertTree(root.right), self.invertTree(root.left)\n",
    "\n",
    "        return root"
   ]
  },
  {
   "cell_type": "markdown",
   "metadata": {},
   "source": [
    "This is a Bottom-Up Approach"
   ]
  },
  {
   "cell_type": "markdown",
   "metadata": {},
   "source": [
    "Time Complexity: **O(N)**: We visit each node once. <br>\n",
    "Space Complexity: **O(H)**: The call stack can grow up to the height of the tree (H). <br>\n",
    "- O(N) for a skewed tree (worst case). <br>\n",
    "- O(log N) for a balanced tree (best case)."
   ]
  },
  {
   "cell_type": "markdown",
   "metadata": {},
   "source": [
    "### APPROACH 2: BFS with Queue"
   ]
  },
  {
   "cell_type": "code",
   "execution_count": null,
   "metadata": {},
   "outputs": [],
   "source": [
    "from collections import deque\n",
    "\n",
    "class Solution:\n",
    "    def invertTree(self, root: Optional[TreeNode]) -> Optional[TreeNode]:\n",
    "        if not root:\n",
    "            return None\n",
    "        \n",
    "        queue = deque([root])\n",
    "        \n",
    "        while queue:\n",
    "            node = queue.popleft()\n",
    "            # Swap children\n",
    "            node.left, node.right = node.right, node.left\n",
    "            \n",
    "            if node.left:\n",
    "                queue.append(node.left)\n",
    "            if node.right:\n",
    "                queue.append(node.right)\n",
    "        \n",
    "        return root"
   ]
  },
  {
   "cell_type": "markdown",
   "metadata": {},
   "source": [
    "🔹 Time Complexity: **O(N)**: Each node is visited once. <br>\n",
    "🔹 Space Complexity: **O(W)**: The queue stores all nodes on the same level at a time.\n"
   ]
  },
  {
   "cell_type": "markdown",
   "metadata": {},
   "source": [
    "### APPROACH 3: DFS with Stack"
   ]
  },
  {
   "cell_type": "code",
   "execution_count": null,
   "metadata": {},
   "outputs": [],
   "source": [
    "class Solution:\n",
    "    def invertTree(self, root: Optional[TreeNode]) -> Optional[TreeNode]:\n",
    "        if not root:\n",
    "            return None\n",
    "        \n",
    "        stack = [root]\n",
    "        \n",
    "        while stack:\n",
    "            node = stack.pop()\n",
    "            # Swap children\n",
    "            node.left, node.right = node.right, node.left\n",
    "            \n",
    "            if node.left:\n",
    "                stack.append(node.left)\n",
    "            if node.right:\n",
    "                stack.append(node.right)\n",
    "        \n",
    "        return root"
   ]
  },
  {
   "cell_type": "markdown",
   "metadata": {},
   "source": [
    "This is a top-down approach"
   ]
  },
  {
   "cell_type": "markdown",
   "metadata": {},
   "source": [
    "🔹 Time Complexity: **O(N)**: Each node is visited once.\n",
    "🔹 Space Complexity: **O(H)**: Stack stores nodes equivalent to the height of the tree."
   ]
  }
 ],
 "metadata": {
  "language_info": {
   "name": "python"
  }
 },
 "nbformat": 4,
 "nbformat_minor": 2
}
