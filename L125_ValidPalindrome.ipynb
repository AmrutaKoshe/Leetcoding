{
 "cells": [
  {
   "cell_type": "markdown",
   "metadata": {},
   "source": [
    "# Valid Palindrome"
   ]
  },
  {
   "cell_type": "markdown",
   "metadata": {},
   "source": [
    "### APPRAOCH 1: Using Python String Method"
   ]
  },
  {
   "cell_type": "code",
   "execution_count": null,
   "metadata": {},
   "outputs": [],
   "source": [
    "class Solution:\n",
    "    def isPalindrome(self, s: str) -> bool:\n",
    "        filtered_s = \"\".join(c.lower() for c in s if c.isalnum())\n",
    "        return filtered_s == filtered_s[::-1]"
   ]
  },
  {
   "cell_type": "markdown",
   "metadata": {},
   "source": [
    "Time Complexity: **O(N)**: String filtering and reversal take O(N) + O(N) = O(N). <br>\n",
    "Space Complexity: **O(N)**: Extra space used for filtered_s."
   ]
  },
  {
   "cell_type": "markdown",
   "metadata": {},
   "source": [
    "### APPRAOCH 2: Two Pointer Method (Optimal)"
   ]
  },
  {
   "cell_type": "code",
   "execution_count": null,
   "metadata": {},
   "outputs": [],
   "source": [
    "class Solution:\n",
    "    def isPalindrome(self, s: str) -> bool:\n",
    "        left, right = 0, len(s) - 1\n",
    "\n",
    "        while left < right:\n",
    "            # Ignore non-alphanumeric characters\n",
    "            while left < right and not s[left].isalnum():\n",
    "                left += 1\n",
    "            while left < right and not s[right].isalnum():\n",
    "                right -= 1\n",
    "\n",
    "            # Compare characters (case insensitive)\n",
    "            if s[left].lower() != s[right].lower():\n",
    "                return False\n",
    "            \n",
    "            left += 1\n",
    "            right -= 1\n",
    "        \n",
    "        return True"
   ]
  },
  {
   "cell_type": "markdown",
   "metadata": {},
   "source": [
    "Time Complexity: **O(N)**: We traverse the string once, skipping non-alphanumeric characters. <br>\n",
    "Space Complexity: **O(1)**: No extra space is used apart from variables."
   ]
  },
  {
   "cell_type": "markdown",
   "metadata": {},
   "source": [
    "### APPROACH 3: Recursive Approach"
   ]
  },
  {
   "cell_type": "markdown",
   "metadata": {},
   "source": [
    "We use two pointer approach with recurision <br>\n",
    "\n",
    "Base Case: <br>\n",
    " - When the length of string is 0 or 1, it's for sure a palindrome - return True\n",
    " - When str[left] != str[right] - it's not a palindrom - return False\n",
    "<br>\n",
    "\n",
    "Recursive Case: <br>\n",
    "- left +=1 and right-=1 "
   ]
  },
  {
   "cell_type": "code",
   "execution_count": null,
   "metadata": {},
   "outputs": [],
   "source": [
    "class Solution:\n",
    "    def isPalindrome(self, s: str) -> bool:\n",
    "        def check(l, r):\n",
    "            while l < r and not s[l].isalnum():\n",
    "                l += 1\n",
    "            while l < r and not s[r].isalnum():\n",
    "                r -= 1\n",
    "            \n",
    "            if l >= r:\n",
    "                return True\n",
    "            \n",
    "            if s[l].lower() != s[r].lower():\n",
    "                return False\n",
    "\n",
    "            return check(l + 1, r - 1)  # Recur for remaining string\n",
    "        \n",
    "        return check(0, len(s) - 1)"
   ]
  },
  {
   "cell_type": "markdown",
   "metadata": {},
   "source": [
    "Time Complexity: **O(n)** - Each call reduces problem size by 2. So, number of calls = N/2. O(N/2) = O(N) <br>\n",
    "Space Complexity: **O(N)** - O(N) because recursion uses the call stack, which in the worst case can go up to O(N/2) → O(N) in depth."
   ]
  }
 ],
 "metadata": {
  "language_info": {
   "name": "python"
  }
 },
 "nbformat": 4,
 "nbformat_minor": 2
}
